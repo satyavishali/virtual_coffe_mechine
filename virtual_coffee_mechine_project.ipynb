{
 "cells": [
  {
   "cell_type": "markdown",
   "id": "22cce296",
   "metadata": {},
   "source": [
    "# coffee_mechine"
   ]
  },
  {
   "cell_type": "code",
   "execution_count": 1,
   "id": "d538fa18",
   "metadata": {},
   "outputs": [],
   "source": [
    "menu={'latte':{'ingrdenets':{'water':200,\n",
    "                             'milk':150,\n",
    "                            'coffee':24},\n",
    "                 'cost':150\n",
    "              },\n",
    "      \n",
    "      'espresso':{'ingrdenets':{'water':50,\n",
    "                             'coffee':18},\n",
    "                  'cost':100\n",
    "                 },\n",
    "      \n",
    "      'cappuccino':{'ingrdenets':{'water':250,\n",
    "                             'milk':100,\n",
    "                            'coffee':24\n",
    "                                 },\n",
    "                    'cost':200}\n",
    "      \n",
    "     }"
   ]
  },
  {
   "cell_type": "code",
   "execution_count": 2,
   "id": "7cf03d24",
   "metadata": {},
   "outputs": [],
   "source": [
    "profit=0"
   ]
  },
  {
   "cell_type": "code",
   "execution_count": 3,
   "id": "9509bbe2",
   "metadata": {},
   "outputs": [],
   "source": [
    "resources={'water':500,\n",
    "          'milk':200,\n",
    "          'coffee':100}\n"
   ]
  },
  {
   "cell_type": "code",
   "execution_count": 4,
   "id": "3ec5d37e",
   "metadata": {},
   "outputs": [],
   "source": [
    "def check_resources(order_ingrdents):\n",
    "    \n",
    "    for item in order_ingrdents:\n",
    "        \n",
    "        if order_ingrdents[item]>resources[item]:\n",
    "            print('Sorry there is not enough ingredents ')\n",
    "            return False\n",
    "    return True\n"
   ]
  },
  {
   "cell_type": "code",
   "execution_count": 6,
   "id": "1b659f58",
   "metadata": {},
   "outputs": [],
   "source": [
    "total=0\n",
    "\n",
    "def process_coins():\n",
    "    global total\n",
    "    print('please insert coins')\n",
    "    coin_five=int(input('how many 5rs coins'))\n",
    "    coin_twenty=int(input('how many 20rs coins'))\n",
    "    coin_ten=int(input('how many 10 rs coins'))                   \n",
    "    total=coin_five*5 + coin_twenty*20 + coin_ten*10\n",
    "    print('given amount:',total)\n",
    "    return total"
   ]
  },
  {
   "cell_type": "code",
   "execution_count": 8,
   "id": "7614aed9",
   "metadata": {},
   "outputs": [],
   "source": [
    "def is_payment_sucess(money_recived,coffe_cost):\n",
    "    \n",
    "    if money_recived >=coffe_cost:\n",
    "        global profit\n",
    "        profit+=coffe_cost\n",
    "        change=money_recived - coffe_cost\n",
    "        print(f'here is your rs {change} in change.')\n",
    "        return True\n",
    "        \n",
    "    else:\n",
    "        print('sorry thats not enough money..money refounded..{money_recived}')\n",
    "        return False\n",
    "        "
   ]
  },
  {
   "cell_type": "code",
   "execution_count": 9,
   "id": "3f97f94e",
   "metadata": {},
   "outputs": [],
   "source": [
    "def make_coffe(coffe_name,coffe_ingrdents):\n",
    "    for item in coffe_ingrdents:\n",
    "        resources[item]-= coffe_ingrdents[item]\n",
    "    print(f'here is your {choice}....enjoy')\n",
    "    "
   ]
  },
  {
   "cell_type": "code",
   "execution_count": null,
   "id": "cd7a6796",
   "metadata": {},
   "outputs": [
    {
     "name": "stdout",
     "output_type": "stream",
     "text": [
      "what would you like to have?(latte/espresso/cappuccino): latte\n",
      "{'ingrdenets': {'water': 200, 'milk': 150, 'coffee': 24}, 'cost': 150}\n",
      "please insert coins\n",
      "how many 5rs coins10\n",
      "how many 20rs coins10\n",
      "how many 10 rs coins10\n",
      "given amount: 350\n",
      "here is your rs 200 in change.\n",
      "here is your latte....enjoy\n",
      "what would you like to have?(latte/espresso/cappuccino): report\n",
      "------------------------------------\n",
      "water=300\n",
      "milk=50\n",
      "coffee=76\n",
      "money=Rs150\n",
      "what would you like to have?(latte/espresso/cappuccino): espresso\n",
      "{'ingrdenets': {'water': 50, 'coffee': 18}, 'cost': 100}\n",
      "please insert coins\n",
      "how many 5rs coins10\n",
      "how many 20rs coins10\n",
      "how many 10 rs coins10\n",
      "given amount: 350\n",
      "here is your rs 250 in change.\n",
      "here is your espresso....enjoy\n",
      "what would you like to have?(latte/espresso/cappuccino): cappuccino\n",
      "{'ingrdenets': {'water': 250, 'milk': 100, 'coffee': 24}, 'cost': 200}\n",
      "Sorry there is not enough ingredents \n",
      "what would you like to have?(latte/espresso/cappuccino): report\n",
      "------------------------------------\n",
      "water=250\n",
      "milk=50\n",
      "coffee=58\n",
      "money=Rs250\n",
      "what would you like to have?(latte/espresso/cappuccino): espresso\n",
      "{'ingrdenets': {'water': 50, 'coffee': 18}, 'cost': 100}\n",
      "please insert coins\n",
      "how many 5rs coins10\n",
      "how many 20rs coins10\n",
      "how many 10 rs coins10\n",
      "given amount: 350\n",
      "here is your rs 250 in change.\n",
      "here is your espresso....enjoy\n",
      "what would you like to have?(latte/espresso/cappuccino): report\n",
      "------------------------------------\n",
      "water=200\n",
      "milk=50\n",
      "coffee=40\n",
      "money=Rs350\n"
     ]
    }
   ],
   "source": [
    "#choice=input('what would you like to have?(latte/espresso/cappuccino): ')\n",
    "\n",
    "is_on=True\n",
    "while is_on:\n",
    "    choice=input('what would you like to have?(latte/espresso/cappuccino): ')\n",
    "    if choice=='off':\n",
    "        is_on=False\n",
    "    elif choice=='report':\n",
    "        print('------------------------------------')\n",
    "        print(f\"water={resources['water']}\")\n",
    "        print(f\"milk={resources['milk']}\")\n",
    "        print(f\"coffee={resources['coffee']}\")\n",
    "        print(f'money=Rs{profit}')\n",
    "        \n",
    "    else:\n",
    "        coffe_type=menu[choice]\n",
    "        print(coffe_type)\n",
    "        if check_resources(coffe_type['ingrdenets']):\n",
    "            p=process_coins()\n",
    "            is_payment_sucess(p,coffe_type['cost'])\n",
    "            make_coffe(coffe_type,coffe_type['ingrdenets'])\n",
    "        \n",
    "        \n",
    "        \n",
    "        "
   ]
  },
  {
   "cell_type": "code",
   "execution_count": null,
   "id": "df5375ad",
   "metadata": {},
   "outputs": [],
   "source": []
  },
  {
   "cell_type": "code",
   "execution_count": 15,
   "id": "dcb7a480",
   "metadata": {},
   "outputs": [],
   "source": []
  },
  {
   "cell_type": "code",
   "execution_count": null,
   "id": "2bac0b4f",
   "metadata": {},
   "outputs": [],
   "source": []
  }
 ],
 "metadata": {
  "kernelspec": {
   "display_name": "Python 3 (ipykernel)",
   "language": "python",
   "name": "python3"
  },
  "language_info": {
   "codemirror_mode": {
    "name": "ipython",
    "version": 3
   },
   "file_extension": ".py",
   "mimetype": "text/x-python",
   "name": "python",
   "nbconvert_exporter": "python",
   "pygments_lexer": "ipython3",
   "version": "3.9.13"
  }
 },
 "nbformat": 4,
 "nbformat_minor": 5
}
